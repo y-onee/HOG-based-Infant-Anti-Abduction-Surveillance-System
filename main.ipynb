{
 "cells": [
  {
   "cell_type": "code",
   "execution_count": 25,
   "metadata": {},
   "outputs": [],
   "source": [
    "import pickle\n",
    "import cv2\n",
    "import numpy as np\n",
    "from moviepy.editor import *\n",
    "\n",
    "from keras.layers import *\n",
    "from keras.models import load_model"
   ]
  },
  {
   "cell_type": "code",
   "execution_count": 26,
   "metadata": {},
   "outputs": [],
   "source": [
    "path = r\"E:\\Projects\\Baby\\Media\\Dataset 2.0\\Person with Baby\\Thif.mp4\"\n",
    "# path = r\"E:\\Projects\\Baby\\Final\\Thif3.mp4\"\n"
   ]
  },
  {
   "cell_type": "code",
   "execution_count": 27,
   "metadata": {},
   "outputs": [],
   "source": [
    "#opening the video\n",
    "cap = cv2.VideoCapture(path)\n",
    "\n",
    "#import pre-trained model\n",
    "saved_model = load_model('LSTM_Model.h5')\n",
    "\n",
    "#declare image height and width\n",
    "img_ht, img_width = 64, 64\n",
    "\n",
    "#actions\n",
    "classes = [\"Walk\", \"Run\"]\n"
   ]
  },
  {
   "cell_type": "code",
   "execution_count": 28,
   "metadata": {},
   "outputs": [],
   "source": [
    "#used for the prediction of action\n",
    "def predict_action(video_file_path):\n",
    "    #read the video\n",
    "    video_reader = cv2.VideoCapture(video_file_path)\n",
    "\n",
    "    frames_list = []\n",
    "\n",
    "    predicted_class_name = ''\n",
    "\n",
    "    #for each in a 20 seq of frames\n",
    "    for frame_counter in range(20):\n",
    "        success, frame = video_reader.read()\n",
    "\n",
    "        if not success:\n",
    "            break \n",
    "\n",
    "        resized_frame = cv2.resize(frame, (img_ht, img_width))\n",
    "\n",
    "        normalized_frame = resized_frame/255\n",
    "\n",
    "        frames_list.append(normalized_frame)\n",
    "\n",
    "# Reshape frames for LSTM input (samples, time_steps, features)\n",
    "    reshaped_frames = np.array(frames_list).reshape(1, 20, img_ht * img_width * 3)\n",
    "\n",
    "    predicted_labels_probabilities = saved_model.predict(reshaped_frames)[0]\n",
    "    predict_label = np.argmax(predicted_labels_probabilities)\n",
    "    predicted_class_name = classes[predict_label]\n",
    "\n",
    "    # \\nConfidence: {predicted_labels_prrobabilities[predict_label]}\n",
    "    print(f'Action Predicted: {predicted_class_name}')\n",
    "\n",
    "    return predicted_class_name\n",
    "\n",
    "    video_reader.release()"
   ]
  },
  {
   "cell_type": "code",
   "execution_count": 29,
   "metadata": {},
   "outputs": [
    {
     "name": "stdout",
     "output_type": "stream",
     "text": [
      "Human detected:  0\n",
      "Human detected:  0\n",
      "Human detected:  0\n",
      "Human detected:  0\n",
      "Human detected:  0\n",
      "Human detected:  0\n",
      "Human detected:  0\n",
      "Human detected:  0\n",
      "Human detected:  0\n",
      "Human detected:  0\n",
      "Human detected:  0\n",
      "Human detected:  0\n",
      "Human detected:  0\n",
      "Human detected:  0\n",
      "Human detected:  0\n",
      "Human detected:  0\n",
      "Human detected:  1\n",
      "SUSPICIOUS PERSON DETECTED!!!\n",
      "WARNING:tensorflow:5 out of the last 9 calls to <function Model.make_predict_function.<locals>.predict_function at 0x000001E8BE85DEE0> triggered tf.function retracing. Tracing is expensive and the excessive number of tracings could be due to (1) creating @tf.function repeatedly in a loop, (2) passing tensors with different shapes, (3) passing Python objects instead of tensors. For (1), please define your @tf.function outside of the loop. For (2), @tf.function has reduce_retracing=True option that can avoid unnecessary retracing. For (3), please refer to https://www.tensorflow.org/guide/function#controlling_retracing and https://www.tensorflow.org/api_docs/python/tf/function for  more details.\n",
      "1/1 [==============================] - 1s 1s/step\n",
      "Action Predicted: Run\n",
      "1/1 [==============================] - 0s 56ms/step\n",
      "Action Predicted: Run\n"
     ]
    }
   ],
   "source": [
    "\n",
    "hog = cv2.HOGDescriptor()\n",
    "#Support vector Machine used for people detection\n",
    "hog.setSVMDetector(cv2.HOGDescriptor_getDefaultPeopleDetector())\n",
    "\n",
    "while True:\n",
    "    ret, frame = cap.read()\n",
    "    frame = cv2.resize(frame, (640, 480))\n",
    "\n",
    "    boxes, weights = hog.detectMultiScale(frame, winStride=(8, 8))\n",
    "\n",
    "    boxes = np.array([[x, y, x + w, y + h] for (x, y, w, h) in boxes])\n",
    "\n",
    "    for (xA, yA, xB, yB) in boxes:\n",
    "        cv2.rectangle(frame, (xA, yA), (xB, yB),\n",
    "                      (0, 255, 0), 2)\n",
    "    \n",
    "    # cap.write(frame.astype('uint8'))\n",
    "    cv2.imshow('frame', frame)\n",
    "    if cv2.waitKey(1) & 0XFF == ord('q'):\n",
    "        break\n",
    "\n",
    "    (humans, _) = hog.detectMultiScale(frame,\n",
    "                                   winStride=(5, 5),\n",
    "                                   padding=(3, 4),\n",
    "                                   scale=1.21)\n",
    "\n",
    "    print('Human detected: ', len(humans))\n",
    "\n",
    "    if(len(humans)==1):\n",
    "        print(\"SUSPICIOUS PERSON DETECTED!!!\")\n",
    "        predict_action(path)\n",
    "        \n",
    "        if predict_action(path)==\"Run\":\n",
    "            img = frame\n",
    "            cv2.imshow(\"img\", img)\n",
    "            cv2.waitKey(1)\n",
    "            cv2.destroyAllWindows()\n",
    "            break"
   ]
  },
  {
   "cell_type": "code",
   "execution_count": 30,
   "metadata": {},
   "outputs": [
    {
     "name": "stdout",
     "output_type": "stream",
     "text": [
      "With Baby\n",
      "[1.]\n"
     ]
    }
   ],
   "source": [
    "classes = ['With Baby', 'Without Baby']\n",
    "\n",
    "img = img\n",
    "cv2.imshow(\"Input Image\", img)\n",
    "\n",
    "img = cv2.resize(img, (224, 224))\n",
    "\n",
    "r_img = img.reshape(1, 224, 224, 3)\n",
    "\n",
    "img = img/255.0\n",
    "\n",
    "nx, ny, nrgb = img.shape\n",
    "# print(r_img.shape)\n",
    "img2 = img.reshape(1,(nx*ny*nrgb))\n",
    "\n",
    "pickled_model = pickle.load(open('random.pkl', 'rb'))\n",
    "ans=pickled_model.predict(img2)\n",
    "predicted_class = ans.argmax(axis=-1)\n",
    "print(classes[predicted_class])\n",
    "print(ans)\n",
    "\n",
    "cv2.waitKey(0)\n",
    "cv2.destroyAllWindows()"
   ]
  }
 ],
 "metadata": {
  "kernelspec": {
   "display_name": "Python 3",
   "language": "python",
   "name": "python3"
  },
  "language_info": {
   "codemirror_mode": {
    "name": "ipython",
    "version": 3
   },
   "file_extension": ".py",
   "mimetype": "text/x-python",
   "name": "python",
   "nbconvert_exporter": "python",
   "pygments_lexer": "ipython3",
   "version": "3.11.1"
  }
 },
 "nbformat": 4,
 "nbformat_minor": 2
}
