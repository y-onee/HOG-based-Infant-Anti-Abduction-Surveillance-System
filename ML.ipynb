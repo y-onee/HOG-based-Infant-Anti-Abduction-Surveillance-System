{
 "cells": [
  {
   "cell_type": "code",
   "execution_count": 4,
   "metadata": {},
   "outputs": [],
   "source": [
    "import os\n",
    "import cv2\n",
    "from sklearn.model_selection import KFold\n",
    "import numpy as np\n",
    "import tensorflow as tf\n",
    "from tensorflow import keras"
   ]
  },
  {
   "cell_type": "code",
   "execution_count": 5,
   "metadata": {},
   "outputs": [],
   "source": [
    "main_dir = (\"E:\\Projects\\Baby\\Media\\Dataset 3.0\")"
   ]
  },
  {
   "cell_type": "code",
   "execution_count": 6,
   "metadata": {},
   "outputs": [],
   "source": [
    "with_dir = os.path.join(main_dir, \"With\")\n",
    "without_dir = os.path.join(main_dir, \"Without\")"
   ]
  },
  {
   "cell_type": "code",
   "execution_count": 7,
   "metadata": {},
   "outputs": [],
   "source": [
    "classes = [\"With\", \"Without\"]"
   ]
  },
  {
   "cell_type": "code",
   "execution_count": 8,
   "metadata": {},
   "outputs": [],
   "source": [
    "batch_size = 32\n",
    "img_height = 224\n",
    "img_width = 224"
   ]
  },
  {
   "cell_type": "code",
   "execution_count": 9,
   "metadata": {},
   "outputs": [
    {
     "name": "stdout",
     "output_type": "stream",
     "text": [
      "Found 8956 files belonging to 2 classes.\n"
     ]
    }
   ],
   "source": [
    "dataset = tf.keras.utils.image_dataset_from_directory(\n",
    "    main_dir,\n",
    "    labels = 'inferred',\n",
    "    label_mode = 'categorical',\n",
    "    class_names = ['With', 'Without'],\n",
    "    seed=123,\n",
    "    image_size=(img_height, img_width),\n",
    "    batch_size=batch_size\n",
    ")"
   ]
  },
  {
   "cell_type": "code",
   "execution_count": 10,
   "metadata": {},
   "outputs": [],
   "source": [
    "for images, labels in dataset:\n",
    "    x = images.numpy()\n",
    "    y = labels.numpy()"
   ]
  },
  {
   "cell_type": "code",
   "execution_count": 11,
   "metadata": {},
   "outputs": [],
   "source": [
    "nsamples, nx, ny, nrgb = x.shape\n",
    "x = x.reshape((nsamples,nx*ny*nrgb))"
   ]
  },
  {
   "cell_type": "code",
   "execution_count": 12,
   "metadata": {},
   "outputs": [
    {
     "data": {
      "text/plain": [
       "(56, 1)"
      ]
     },
     "execution_count": 12,
     "metadata": {},
     "output_type": "execute_result"
    }
   ],
   "source": [
    "y = y.reshape(-1, 1)\n",
    "y.shape"
   ]
  },
  {
   "cell_type": "code",
   "execution_count": 154,
   "metadata": {},
   "outputs": [],
   "source": [
    "kf = KFold(n_splits=4)"
   ]
  },
  {
   "cell_type": "code",
   "execution_count": 155,
   "metadata": {},
   "outputs": [],
   "source": [
    "classifiers = {\n",
    "    'Random Forest': RandomForestClassifier(),\n",
    "    'K-Nearest Neighbors': KNeighborsClassifier(n_neighbors=7),\n",
    "    'Decision Tree': DecisionTreeClassifier(),\n",
    "    'Naive Bayes': GaussianNB()\n",
    "}"
   ]
  },
  {
   "cell_type": "code",
   "execution_count": 156,
   "metadata": {},
   "outputs": [
    {
     "name": "stderr",
     "output_type": "stream",
     "text": [
      "c:\\Users\\saayo\\AppData\\Local\\Programs\\Python\\Python311\\Lib\\site-packages\\sklearn\\base.py:1151: DataConversionWarning: A column-vector y was passed when a 1d array was expected. Please change the shape of y to (n_samples,), for example using ravel().\n",
      "  return fit_method(estimator, *args, **kwargs)\n"
     ]
    },
    {
     "name": "stdout",
     "output_type": "stream",
     "text": [
      "Random Forest - Accuracy: 0.7142857142857143\n",
      "Random Forest - Classification Report:\n",
      "              precision    recall  f1-score   support\n",
      "\n",
      "         0.0       0.75      0.75      0.75         4\n",
      "         1.0       0.67      0.67      0.67         3\n",
      "\n",
      "    accuracy                           0.71         7\n",
      "   macro avg       0.71      0.71      0.71         7\n",
      "weighted avg       0.71      0.71      0.71         7\n",
      "\n"
     ]
    },
    {
     "name": "stderr",
     "output_type": "stream",
     "text": [
      "c:\\Users\\saayo\\AppData\\Local\\Programs\\Python\\Python311\\Lib\\site-packages\\sklearn\\neighbors\\_classification.py:228: DataConversionWarning: A column-vector y was passed when a 1d array was expected. Please change the shape of y to (n_samples,), for example using ravel().\n",
      "  return self._fit(X, y)\n"
     ]
    },
    {
     "name": "stdout",
     "output_type": "stream",
     "text": [
      "K-Nearest Neighbors - Accuracy: 0.42857142857142855\n",
      "K-Nearest Neighbors - Classification Report:\n",
      "              precision    recall  f1-score   support\n",
      "\n",
      "         0.0       0.50      0.75      0.60         4\n",
      "         1.0       0.00      0.00      0.00         3\n",
      "\n",
      "    accuracy                           0.43         7\n",
      "   macro avg       0.25      0.38      0.30         7\n",
      "weighted avg       0.29      0.43      0.34         7\n",
      "\n",
      "Decision Tree - Accuracy: 0.42857142857142855\n",
      "Decision Tree - Classification Report:\n",
      "              precision    recall  f1-score   support\n",
      "\n",
      "         0.0       0.50      0.50      0.50         4\n",
      "         1.0       0.33      0.33      0.33         3\n",
      "\n",
      "    accuracy                           0.43         7\n",
      "   macro avg       0.42      0.42      0.42         7\n",
      "weighted avg       0.43      0.43      0.43         7\n",
      "\n",
      "Naive Bayes - Accuracy: 0.5714285714285714\n",
      "Naive Bayes - Classification Report:\n",
      "              precision    recall  f1-score   support\n",
      "\n",
      "         0.0       0.60      0.75      0.67         4\n",
      "         1.0       0.50      0.33      0.40         3\n",
      "\n",
      "    accuracy                           0.57         7\n",
      "   macro avg       0.55      0.54      0.53         7\n",
      "weighted avg       0.56      0.57      0.55         7\n",
      "\n"
     ]
    },
    {
     "name": "stderr",
     "output_type": "stream",
     "text": [
      "c:\\Users\\saayo\\AppData\\Local\\Programs\\Python\\Python311\\Lib\\site-packages\\sklearn\\utils\\validation.py:1184: DataConversionWarning: A column-vector y was passed when a 1d array was expected. Please change the shape of y to (n_samples, ), for example using ravel().\n",
      "  y = column_or_1d(y, warn=True)\n",
      "c:\\Users\\saayo\\AppData\\Local\\Programs\\Python\\Python311\\Lib\\site-packages\\sklearn\\base.py:1151: DataConversionWarning: A column-vector y was passed when a 1d array was expected. Please change the shape of y to (n_samples,), for example using ravel().\n",
      "  return fit_method(estimator, *args, **kwargs)\n"
     ]
    },
    {
     "name": "stdout",
     "output_type": "stream",
     "text": [
      "Random Forest - Accuracy: 0.2857142857142857\n",
      "Random Forest - Classification Report:\n",
      "              precision    recall  f1-score   support\n",
      "\n",
      "         0.0       0.33      0.67      0.44         3\n",
      "         1.0       0.00      0.00      0.00         4\n",
      "\n",
      "    accuracy                           0.29         7\n",
      "   macro avg       0.17      0.33      0.22         7\n",
      "weighted avg       0.14      0.29      0.19         7\n",
      "\n"
     ]
    },
    {
     "name": "stderr",
     "output_type": "stream",
     "text": [
      "c:\\Users\\saayo\\AppData\\Local\\Programs\\Python\\Python311\\Lib\\site-packages\\sklearn\\neighbors\\_classification.py:228: DataConversionWarning: A column-vector y was passed when a 1d array was expected. Please change the shape of y to (n_samples,), for example using ravel().\n",
      "  return self._fit(X, y)\n"
     ]
    },
    {
     "name": "stdout",
     "output_type": "stream",
     "text": [
      "K-Nearest Neighbors - Accuracy: 0.14285714285714285\n",
      "K-Nearest Neighbors - Classification Report:\n",
      "              precision    recall  f1-score   support\n",
      "\n",
      "         0.0       0.20      0.33      0.25         3\n",
      "         1.0       0.00      0.00      0.00         4\n",
      "\n",
      "    accuracy                           0.14         7\n",
      "   macro avg       0.10      0.17      0.12         7\n",
      "weighted avg       0.09      0.14      0.11         7\n",
      "\n",
      "Decision Tree - Accuracy: 0.2857142857142857\n",
      "Decision Tree - Classification Report:\n",
      "              precision    recall  f1-score   support\n",
      "\n",
      "         0.0       0.00      0.00      0.00         3\n",
      "         1.0       0.40      0.50      0.44         4\n",
      "\n",
      "    accuracy                           0.29         7\n",
      "   macro avg       0.20      0.25      0.22         7\n",
      "weighted avg       0.23      0.29      0.25         7\n",
      "\n",
      "Naive Bayes - Accuracy: 0.2857142857142857\n",
      "Naive Bayes - Classification Report:\n",
      "              precision    recall  f1-score   support\n",
      "\n",
      "         0.0       0.25      0.33      0.29         3\n",
      "         1.0       0.33      0.25      0.29         4\n",
      "\n",
      "    accuracy                           0.29         7\n",
      "   macro avg       0.29      0.29      0.29         7\n",
      "weighted avg       0.30      0.29      0.29         7\n",
      "\n"
     ]
    },
    {
     "name": "stderr",
     "output_type": "stream",
     "text": [
      "c:\\Users\\saayo\\AppData\\Local\\Programs\\Python\\Python311\\Lib\\site-packages\\sklearn\\utils\\validation.py:1184: DataConversionWarning: A column-vector y was passed when a 1d array was expected. Please change the shape of y to (n_samples, ), for example using ravel().\n",
      "  y = column_or_1d(y, warn=True)\n",
      "c:\\Users\\saayo\\AppData\\Local\\Programs\\Python\\Python311\\Lib\\site-packages\\sklearn\\base.py:1151: DataConversionWarning: A column-vector y was passed when a 1d array was expected. Please change the shape of y to (n_samples,), for example using ravel().\n",
      "  return fit_method(estimator, *args, **kwargs)\n"
     ]
    },
    {
     "name": "stdout",
     "output_type": "stream",
     "text": [
      "Random Forest - Accuracy: 0.5714285714285714\n",
      "Random Forest - Classification Report:\n",
      "              precision    recall  f1-score   support\n",
      "\n",
      "         0.0       0.50      1.00      0.67         3\n",
      "         1.0       1.00      0.25      0.40         4\n",
      "\n",
      "    accuracy                           0.57         7\n",
      "   macro avg       0.75      0.62      0.53         7\n",
      "weighted avg       0.79      0.57      0.51         7\n",
      "\n"
     ]
    },
    {
     "name": "stderr",
     "output_type": "stream",
     "text": [
      "c:\\Users\\saayo\\AppData\\Local\\Programs\\Python\\Python311\\Lib\\site-packages\\sklearn\\neighbors\\_classification.py:228: DataConversionWarning: A column-vector y was passed when a 1d array was expected. Please change the shape of y to (n_samples,), for example using ravel().\n",
      "  return self._fit(X, y)\n"
     ]
    },
    {
     "name": "stdout",
     "output_type": "stream",
     "text": [
      "K-Nearest Neighbors - Accuracy: 0.42857142857142855\n",
      "K-Nearest Neighbors - Classification Report:\n",
      "              precision    recall  f1-score   support\n",
      "\n",
      "         0.0       0.40      0.67      0.50         3\n",
      "         1.0       0.50      0.25      0.33         4\n",
      "\n",
      "    accuracy                           0.43         7\n",
      "   macro avg       0.45      0.46      0.42         7\n",
      "weighted avg       0.46      0.43      0.40         7\n",
      "\n",
      "Decision Tree - Accuracy: 0.5714285714285714\n",
      "Decision Tree - Classification Report:\n",
      "              precision    recall  f1-score   support\n",
      "\n",
      "         0.0       0.50      1.00      0.67         3\n",
      "         1.0       1.00      0.25      0.40         4\n",
      "\n",
      "    accuracy                           0.57         7\n",
      "   macro avg       0.75      0.62      0.53         7\n",
      "weighted avg       0.79      0.57      0.51         7\n",
      "\n",
      "Naive Bayes - Accuracy: 0.5714285714285714\n",
      "Naive Bayes - Classification Report:\n",
      "              precision    recall  f1-score   support\n",
      "\n",
      "         0.0       0.50      1.00      0.67         3\n",
      "         1.0       1.00      0.25      0.40         4\n",
      "\n",
      "    accuracy                           0.57         7\n",
      "   macro avg       0.75      0.62      0.53         7\n",
      "weighted avg       0.79      0.57      0.51         7\n",
      "\n"
     ]
    },
    {
     "name": "stderr",
     "output_type": "stream",
     "text": [
      "c:\\Users\\saayo\\AppData\\Local\\Programs\\Python\\Python311\\Lib\\site-packages\\sklearn\\utils\\validation.py:1184: DataConversionWarning: A column-vector y was passed when a 1d array was expected. Please change the shape of y to (n_samples, ), for example using ravel().\n",
      "  y = column_or_1d(y, warn=True)\n",
      "c:\\Users\\saayo\\AppData\\Local\\Programs\\Python\\Python311\\Lib\\site-packages\\sklearn\\base.py:1151: DataConversionWarning: A column-vector y was passed when a 1d array was expected. Please change the shape of y to (n_samples,), for example using ravel().\n",
      "  return fit_method(estimator, *args, **kwargs)\n"
     ]
    },
    {
     "name": "stdout",
     "output_type": "stream",
     "text": [
      "Random Forest - Accuracy: 0.5714285714285714\n",
      "Random Forest - Classification Report:\n",
      "              precision    recall  f1-score   support\n",
      "\n",
      "         0.0       0.60      0.75      0.67         4\n",
      "         1.0       0.50      0.33      0.40         3\n",
      "\n",
      "    accuracy                           0.57         7\n",
      "   macro avg       0.55      0.54      0.53         7\n",
      "weighted avg       0.56      0.57      0.55         7\n",
      "\n"
     ]
    },
    {
     "name": "stderr",
     "output_type": "stream",
     "text": [
      "c:\\Users\\saayo\\AppData\\Local\\Programs\\Python\\Python311\\Lib\\site-packages\\sklearn\\neighbors\\_classification.py:228: DataConversionWarning: A column-vector y was passed when a 1d array was expected. Please change the shape of y to (n_samples,), for example using ravel().\n",
      "  return self._fit(X, y)\n"
     ]
    },
    {
     "name": "stdout",
     "output_type": "stream",
     "text": [
      "K-Nearest Neighbors - Accuracy: 0.5714285714285714\n",
      "K-Nearest Neighbors - Classification Report:\n",
      "              precision    recall  f1-score   support\n",
      "\n",
      "         0.0       0.60      0.75      0.67         4\n",
      "         1.0       0.50      0.33      0.40         3\n",
      "\n",
      "    accuracy                           0.57         7\n",
      "   macro avg       0.55      0.54      0.53         7\n",
      "weighted avg       0.56      0.57      0.55         7\n",
      "\n",
      "Decision Tree - Accuracy: 0.5714285714285714\n",
      "Decision Tree - Classification Report:\n",
      "              precision    recall  f1-score   support\n",
      "\n",
      "         0.0       0.60      0.75      0.67         4\n",
      "         1.0       0.50      0.33      0.40         3\n",
      "\n",
      "    accuracy                           0.57         7\n",
      "   macro avg       0.55      0.54      0.53         7\n",
      "weighted avg       0.56      0.57      0.55         7\n",
      "\n",
      "Naive Bayes - Accuracy: 0.42857142857142855\n",
      "Naive Bayes - Classification Report:\n",
      "              precision    recall  f1-score   support\n",
      "\n",
      "         0.0       0.50      0.50      0.50         4\n",
      "         1.0       0.33      0.33      0.33         3\n",
      "\n",
      "    accuracy                           0.43         7\n",
      "   macro avg       0.42      0.42      0.42         7\n",
      "weighted avg       0.43      0.43      0.43         7\n",
      "\n"
     ]
    },
    {
     "name": "stderr",
     "output_type": "stream",
     "text": [
      "c:\\Users\\saayo\\AppData\\Local\\Programs\\Python\\Python311\\Lib\\site-packages\\sklearn\\utils\\validation.py:1184: DataConversionWarning: A column-vector y was passed when a 1d array was expected. Please change the shape of y to (n_samples, ), for example using ravel().\n",
      "  y = column_or_1d(y, warn=True)\n"
     ]
    }
   ],
   "source": [
    "# Loop through K-Fold splits\n",
    "for train_index, test_index in kf.split(x):\n",
    "    x_train, x_test = x[train_index], x[test_index]\n",
    "    y_train, y_test = y[train_index], y[test_index]\n",
    "\n",
    "    # Train and evaluate each classifier\n",
    "    for clf_name, clf in classifiers.items():\n",
    "        clf.fit(x_train, y_train)\n",
    "        y_pred = clf.predict(x_test)\n",
    "\n",
    "        # Print results for each fold and each classifier\n",
    "        print(f\"{clf_name} - Accuracy: {accuracy_score(y_test, y_pred)}\")\n",
    "        print(f\"{clf_name} - Classification Report:\\n{classification_report(y_test, y_pred)}\")"
   ]
  },
  {
   "cell_type": "code",
   "execution_count": 157,
   "metadata": {},
   "outputs": [
    {
     "name": "stdout",
     "output_type": "stream",
     "text": [
      "Train: [ 7  8  9 10 11 12 13 14 15 16 17 18 19 20 21 22 23 24 25 26 27] Test: [0 1 2 3 4 5 6]\n",
      "Train: [ 0  1  2  3  4  5  6 14 15 16 17 18 19 20 21 22 23 24 25 26 27] Test: [ 7  8  9 10 11 12 13]\n",
      "Train: [ 0  1  2  3  4  5  6  7  8  9 10 11 12 13 21 22 23 24 25 26 27] Test: [14 15 16 17 18 19 20]\n",
      "Train: [ 0  1  2  3  4  5  6  7  8  9 10 11 12 13 14 15 16 17 18 19 20] Test: [21 22 23 24 25 26 27]\n"
     ]
    }
   ],
   "source": [
    "for train_index, test_index in kf.split(x):\n",
    "    print(\"Train:\", train_index, \"Test:\", test_index)\n",
    "    x_train, x_test = x[train_index], x[test_index]\n",
    "    y_train, y_test = y[train_index], y[test_index]"
   ]
  },
  {
   "cell_type": "code",
   "execution_count": 112,
   "metadata": {},
   "outputs": [],
   "source": [
    "import pickle\n",
    "from sklearn.metrics import accuracy_score,classification_report\n",
    "from sklearn.ensemble import RandomForestClassifier\n",
    "from sklearn.neighbors import KNeighborsClassifier\n",
    "from sklearn.naive_bayes import GaussianNB\n",
    "from sklearn.tree import DecisionTreeClassifier\n",
    "from sklearn import svm"
   ]
  },
  {
   "cell_type": "code",
   "execution_count": 127,
   "metadata": {},
   "outputs": [
    {
     "name": "stderr",
     "output_type": "stream",
     "text": [
      "c:\\Users\\saayo\\AppData\\Local\\Programs\\Python\\Python311\\Lib\\site-packages\\sklearn\\base.py:1151: DataConversionWarning: A column-vector y was passed when a 1d array was expected. Please change the shape of y to (n_samples,), for example using ravel().\n",
      "  return fit_method(estimator, *args, **kwargs)\n"
     ]
    },
    {
     "name": "stdout",
     "output_type": "stream",
     "text": [
      "Random [0. 1. 0. 1. 0. 0. 0.]\n",
      "Random Forest\n",
      "0.5714285714285714\n",
      "              precision    recall  f1-score   support\n",
      "\n",
      "   With Baby       0.75      0.60      0.67         5\n",
      "Without Baby       0.33      0.50      0.40         2\n",
      "\n",
      "    accuracy                           0.57         7\n",
      "   macro avg       0.54      0.55      0.53         7\n",
      "weighted avg       0.63      0.57      0.59         7\n",
      "\n"
     ]
    }
   ],
   "source": [
    "random = RandomForestClassifier()\n",
    "\n",
    "random.fit(x_train, y_train)\n",
    "\n",
    "random_pred = random.predict(x_test)\n",
    "print('Random', random_pred)\n",
    "\n",
    "# pickle.dump(random, open('random.pkl', 'wb'))\n",
    "\n",
    "print(\"Random Forest\")\n",
    "print(accuracy_score(random_pred,y_test))\n",
    "print(classification_report(random_pred,y_test, target_names = ['With Baby', 'Without Baby']))"
   ]
  },
  {
   "cell_type": "code",
   "execution_count": 31,
   "metadata": {},
   "outputs": [
    {
     "name": "stderr",
     "output_type": "stream",
     "text": [
      "c:\\Users\\saayo\\AppData\\Local\\Programs\\Python\\Python311\\Lib\\site-packages\\sklearn\\neighbors\\_classification.py:228: DataConversionWarning: A column-vector y was passed when a 1d array was expected. Please change the shape of y to (n_samples,), for example using ravel().\n",
      "  return self._fit(X, y)\n"
     ]
    },
    {
     "name": "stdout",
     "output_type": "stream",
     "text": [
      "KNN [0. 0. 0. 1. 0. 1. 0.]\n",
      "KNN\n",
      "0.5714285714285714\n",
      "              precision    recall  f1-score   support\n",
      "\n",
      "   With Baby       0.75      0.60      0.67         5\n",
      "Without Baby       0.33      0.50      0.40         2\n",
      "\n",
      "    accuracy                           0.57         7\n",
      "   macro avg       0.54      0.55      0.53         7\n",
      "weighted avg       0.63      0.57      0.59         7\n",
      "\n"
     ]
    }
   ],
   "source": [
    "knn = KNeighborsClassifier(n_neighbors=7)\n",
    "\n",
    "knn.fit(x_train, y_train)\n",
    "\n",
    "knn_pred = knn.predict(x_test)\n",
    "print('KNN', knn_pred)\n",
    "\n",
    "# pickle.dump(knn, open('knn.pkl', 'wb'))\n",
    "\n",
    "print(\"KNN\")\n",
    "print(accuracy_score(knn_pred,y_test))\n",
    "print(classification_report(knn_pred,y_test, target_names = ['With Baby', 'Without Baby']))"
   ]
  },
  {
   "cell_type": "code",
   "execution_count": 35,
   "metadata": {},
   "outputs": [
    {
     "name": "stdout",
     "output_type": "stream",
     "text": [
      "Decision Tree [0. 1. 0. 1. 0. 1. 0.]\n",
      "Decision Tree\n",
      "0.42857142857142855\n",
      "              precision    recall  f1-score   support\n",
      "\n",
      "   With Baby       0.50      0.50      0.50         4\n",
      "Without Baby       0.33      0.33      0.33         3\n",
      "\n",
      "    accuracy                           0.43         7\n",
      "   macro avg       0.42      0.42      0.42         7\n",
      "weighted avg       0.43      0.43      0.43         7\n",
      "\n"
     ]
    }
   ],
   "source": [
    "dtc = DecisionTreeClassifier()\n",
    "\n",
    "dtc.fit(x_train, y_train)\n",
    "\n",
    "dtc_pred=dtc.predict(x_test)\n",
    "\n",
    "print(\"Decision Tree\", dtc_pred)\n",
    "\n",
    "# pickle.dump(dtc, open('decision.pkl', 'wb'))\n",
    "\n",
    "print(\"Decision Tree\")\n",
    "print(accuracy_score(dtc_pred,y_test))\n",
    "print(classification_report(dtc_pred,y_test, target_names = ['With Baby', 'Without Baby']))\n"
   ]
  },
  {
   "cell_type": "code",
   "execution_count": 47,
   "metadata": {},
   "outputs": [
    {
     "name": "stdout",
     "output_type": "stream",
     "text": [
      "Naive Bayes [0. 1. 0. 1. 0. 1. 0.]\n",
      "Naive Bayes\n",
      "0.42857142857142855\n",
      "              precision    recall  f1-score   support\n",
      "\n",
      "   With Baby       0.50      0.50      0.50         4\n",
      "Without Baby       0.33      0.33      0.33         3\n",
      "\n",
      "    accuracy                           0.43         7\n",
      "   macro avg       0.42      0.42      0.42         7\n",
      "weighted avg       0.43      0.43      0.43         7\n",
      "\n"
     ]
    },
    {
     "name": "stderr",
     "output_type": "stream",
     "text": [
      "c:\\Users\\saayo\\AppData\\Local\\Programs\\Python\\Python311\\Lib\\site-packages\\sklearn\\utils\\validation.py:1184: DataConversionWarning: A column-vector y was passed when a 1d array was expected. Please change the shape of y to (n_samples, ), for example using ravel().\n",
      "  y = column_or_1d(y, warn=True)\n"
     ]
    }
   ],
   "source": [
    "nb = GaussianNB()\n",
    "\n",
    "nb.fit(x_train, y_train)\n",
    "nb_pred = nb.predict(x_test)\n",
    "\n",
    "print(\"Naive Bayes\", nb_pred)\n",
    "\n",
    "print(\"Naive Bayes\")  \n",
    "print(accuracy_score(nb_pred,y_test))\n",
    "print(classification_report(nb_pred,y_test, target_names = ['With Baby', 'Without Baby']))"
   ]
  }
 ],
 "metadata": {
  "kernelspec": {
   "display_name": "Python 3",
   "language": "python",
   "name": "python3"
  },
  "language_info": {
   "codemirror_mode": {
    "name": "ipython",
    "version": 3
   },
   "file_extension": ".py",
   "mimetype": "text/x-python",
   "name": "python",
   "nbconvert_exporter": "python",
   "pygments_lexer": "ipython3",
   "version": "3.11.1"
  },
  "orig_nbformat": 4
 },
 "nbformat": 4,
 "nbformat_minor": 2
}
